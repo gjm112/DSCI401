{
  "nbformat": 4,
  "nbformat_minor": 0,
  "metadata": {
    "colab": {
      "provenance": [],
      "authorship_tag": "ABX9TyNSww/vqsyGbSZknGEMyAmd",
      "include_colab_link": true
    },
    "kernelspec": {
      "name": "python3",
      "display_name": "Python 3"
    },
    "language_info": {
      "name": "python"
    }
  },
  "cells": [
    {
      "cell_type": "markdown",
      "metadata": {
        "id": "view-in-github",
        "colab_type": "text"
      },
      "source": [
        "<a href=\"https://colab.research.google.com/github/gjm112/DSCI401/blob/main/regex.ipynb\" target=\"_parent\"><img src=\"https://colab.research.google.com/assets/colab-badge.svg\" alt=\"Open In Colab\"/></a>"
      ]
    },
    {
      "cell_type": "markdown",
      "source": [],
      "metadata": {
        "id": "leDUAT_QMRSr"
      }
    },
    {
      "cell_type": "markdown",
      "source": [
        "# the re library in python\n",
        "\n",
        "Function:\t  Description\n",
        "\n",
        "findall: \tReturns a list containing all matches\n",
        "\n",
        "search: Returns a Match object if there is a match anywhere in the string\n",
        "\n",
        "split: \tReturns a list where the string has been split at each match\n",
        "\n",
        "sub: \tReplaces one or many matches with a string"
      ],
      "metadata": {
        "id": "oFCii7uoMF9a"
      }
    },
    {
      "cell_type": "code",
      "source": [
        "#vector of strings\n",
        "numbers  = [\"one\",\"two\",\"three\"]\n",
        "lens = list(map(len, numbers))\n",
        "print(lens)"
      ],
      "metadata": {
        "colab": {
          "base_uri": "https://localhost:8080/"
        },
        "id": "RGZJJc96NBu9",
        "outputId": "b5084d18-bbc5-46be-8388-bddc4e255905"
      },
      "execution_count": 24,
      "outputs": [
        {
          "output_type": "stream",
          "name": "stdout",
          "text": [
            "[3, 3, 5]\n"
          ]
        }
      ]
    },
    {
      "cell_type": "code",
      "execution_count": 3,
      "metadata": {
        "colab": {
          "base_uri": "https://localhost:8080/"
        },
        "id": "wzgU9hGOLST0",
        "outputId": "c0818428-f79e-4b67-b224-24608201b876"
      },
      "outputs": [
        {
          "output_type": "stream",
          "name": "stdout",
          "text": [
            "['The rain in Spain']\n"
          ]
        }
      ],
      "source": [
        "import re\n",
        "\n",
        "\n",
        "\n",
        "txt = \"The rain in Spain\"\n",
        "x = re.search(\"^The.*Spain$\", txt)\n",
        "x = re.findall(\"^The.*Spain$\", txt)\n",
        "print(x)"
      ]
    },
    {
      "cell_type": "code",
      "source": [
        "import re\n",
        "\n",
        "txt = \"The rain in Spain\"\n",
        "x = re.findall(\"Portugal\", txt)\n",
        "print(x)"
      ],
      "metadata": {
        "colab": {
          "base_uri": "https://localhost:8080/"
        },
        "id": "fUJcsf3eLxu5",
        "outputId": "b8c30a78-146a-4674-de91-354f6f182cdb"
      },
      "execution_count": 4,
      "outputs": [
        {
          "output_type": "stream",
          "name": "stdout",
          "text": [
            "[]\n"
          ]
        }
      ]
    },
    {
      "cell_type": "code",
      "source": [
        " import re\n",
        "\n",
        "txt = \"The rain in Spain\"\n",
        "x = re.search(\"\\s\", txt)\n",
        "x.start()\n",
        "x.end()\n",
        "print(x)"
      ],
      "metadata": {
        "colab": {
          "base_uri": "https://localhost:8080/"
        },
        "id": "cWEnmyL2L3MX",
        "outputId": "8bff5c51-432d-466f-b23f-7aa7b0f32549"
      },
      "execution_count": 9,
      "outputs": [
        {
          "output_type": "stream",
          "name": "stdout",
          "text": [
            "<re.Match object; span=(3, 4), match=' '>\n"
          ]
        }
      ]
    }
  ]
}